{
 "cells": [
  {
   "cell_type": "code",
   "execution_count": 72,
   "metadata": {},
   "outputs": [],
   "source": [
    "#!pip install pandas\n",
    "#!pip install fuzzywuzzy\n",
    "#!pip install thefuzz\n",
    "#!pip install python-Levenshtein\n",
    "#!pip install python-Levenshtein-wheels"
   ]
  },
  {
   "cell_type": "code",
   "execution_count": 73,
   "metadata": {},
   "outputs": [],
   "source": [
    "import pandas\n",
    "from fuzzywuzzy import fuzz\n",
    "\n",
    "# Replaces %90 and more similar strings  \n",
    "def func(input_list):\n",
    "    for count, item in enumerate(input_list):\n",
    "        rest_of_input_list = input_list[:count] + input_list[count + 1:]\n",
    "        new_list = []\n",
    "        for other_item in rest_of_input_list:\n",
    "            similarity = fuzz.ratio(item, other_item)\n",
    "            if similarity >= 85:\n",
    "                new_list.append(item)\n",
    "            else:\n",
    "                new_list.append(other_item)\n",
    "        input_list = new_list[:count] + [item] + new_list[count :]\n",
    "                \n",
    "    return input_list\n"
   ]
  },
  {
   "cell_type": "code",
   "execution_count": 74,
   "metadata": {},
   "outputs": [],
   "source": [
    "#Lendo o CSV e criando o data frame\n",
    "df = pandas.read_csv('./Empresas.csv', encoding='UTF-8') # Read data from csv\n",
    "df.dropna(inplace=True) # Drop rows with NaN values\n",
    "df.replace(\" \", \"\", regex=True, inplace=True) # Remove spaces from strings\n",
    "df.replace(\"–\", \"\", regex=True, inplace=True) # Remove hyphens from strings"
   ]
  },
  {
   "cell_type": "code",
   "execution_count": 75,
   "metadata": {},
   "outputs": [
    {
     "data": {
      "text/html": [
       "<div>\n",
       "<style scoped>\n",
       "    .dataframe tbody tr th:only-of-type {\n",
       "        vertical-align: middle;\n",
       "    }\n",
       "\n",
       "    .dataframe tbody tr th {\n",
       "        vertical-align: top;\n",
       "    }\n",
       "\n",
       "    .dataframe thead th {\n",
       "        text-align: right;\n",
       "    }\n",
       "</style>\n",
       "<table border=\"1\" class=\"dataframe\">\n",
       "  <thead>\n",
       "    <tr style=\"text-align: right;\">\n",
       "      <th></th>\n",
       "      <th>Empresa</th>\n",
       "    </tr>\n",
       "  </thead>\n",
       "  <tbody>\n",
       "    <tr>\n",
       "      <th>0</th>\n",
       "      <td>ABASKERVILLETRADING</td>\n",
       "    </tr>\n",
       "    <tr>\n",
       "      <th>1</th>\n",
       "      <td>ACS</td>\n",
       "    </tr>\n",
       "    <tr>\n",
       "      <th>2</th>\n",
       "      <td>AGROFONTEALTAA</td>\n",
       "    </tr>\n",
       "    <tr>\n",
       "      <th>3</th>\n",
       "      <td>ALDABRACOFFEELLC</td>\n",
       "    </tr>\n",
       "    <tr>\n",
       "      <th>4</th>\n",
       "      <td>AMIUSLIMITED</td>\n",
       "    </tr>\n",
       "    <tr>\n",
       "      <th>...</th>\n",
       "      <td>...</td>\n",
       "    </tr>\n",
       "    <tr>\n",
       "      <th>183</th>\n",
       "      <td>WOLTHERS&amp;ASSOCIATESCORRETORADEMERCADORIASA</td>\n",
       "    </tr>\n",
       "    <tr>\n",
       "      <th>184</th>\n",
       "      <td>WWWCACIQUECOMBR</td>\n",
       "    </tr>\n",
       "    <tr>\n",
       "      <th>185</th>\n",
       "      <td>YARABRASIL</td>\n",
       "    </tr>\n",
       "    <tr>\n",
       "      <th>186</th>\n",
       "      <td>YARABRASILFERTILIZANTES</td>\n",
       "    </tr>\n",
       "    <tr>\n",
       "      <th>187</th>\n",
       "      <td>YARABRASILFERTILIZANTESSA</td>\n",
       "    </tr>\n",
       "  </tbody>\n",
       "</table>\n",
       "<p>188 rows × 1 columns</p>\n",
       "</div>"
      ],
      "text/plain": [
       "                                        Empresa\n",
       "0                           ABASKERVILLETRADING\n",
       "1                                           ACS\n",
       "2                                AGROFONTEALTAA\n",
       "3                              ALDABRACOFFEELLC\n",
       "4                                  AMIUSLIMITED\n",
       "..                                          ...\n",
       "183  WOLTHERS&ASSOCIATESCORRETORADEMERCADORIASA\n",
       "184                             WWWCACIQUECOMBR\n",
       "185                                  YARABRASIL\n",
       "186                     YARABRASILFERTILIZANTES\n",
       "187                   YARABRASILFERTILIZANTESSA\n",
       "\n",
       "[188 rows x 1 columns]"
      ]
     },
     "execution_count": 75,
     "metadata": {},
     "output_type": "execute_result"
    }
   ],
   "source": [
    "df"
   ]
  },
  {
   "cell_type": "code",
   "execution_count": 76,
   "metadata": {},
   "outputs": [
    {
     "name": "stdout",
     "output_type": "stream",
     "text": [
      "                                        Empresa\n",
      "0                           ABASKERVILLETRADING\n",
      "1                                           ACS\n",
      "2                                AGROFONTEALTAA\n",
      "3                              ALDABRACOFFEELLC\n",
      "4                                  AMIUSLIMITED\n",
      "..                                          ...\n",
      "183  WOLTHERS&ASSOCIATESCORRETORADEMERCADORIASA\n",
      "184                             WWWCACIQUECOMBR\n",
      "185                                  YARABRASIL\n",
      "186                   YARABRASILFERTILIZANTESSA\n",
      "187                   YARABRASILFERTILIZANTESSA\n",
      "\n",
      "[188 rows x 1 columns]\n"
     ]
    }
   ],
   "source": [
    "\n",
    "result = []\n",
    "for column in list(df):\n",
    "    column_values = list(df[column])\n",
    "    first_words = [x[:x.index(\" \")] if \" \" in x else x for x in column_values]\n",
    "    result.append(func(first_words))\n",
    "    \n",
    "new_df = pandas.DataFrame(result).transpose() \n",
    "new_df.columns = list(df)\n",
    "\n",
    "\n",
    "print(new_df)"
   ]
  },
  {
   "cell_type": "code",
   "execution_count": 77,
   "metadata": {},
   "outputs": [],
   "source": [
    "new_df.to_csv('Empresas_tratada_85.csv', index=False)"
   ]
  }
 ],
 "metadata": {
  "kernelspec": {
   "display_name": "env",
   "language": "python",
   "name": "python3"
  },
  "language_info": {
   "codemirror_mode": {
    "name": "ipython",
    "version": 3
   },
   "file_extension": ".py",
   "mimetype": "text/x-python",
   "name": "python",
   "nbconvert_exporter": "python",
   "pygments_lexer": "ipython3",
   "version": "3.9.6"
  }
 },
 "nbformat": 4,
 "nbformat_minor": 2
}
