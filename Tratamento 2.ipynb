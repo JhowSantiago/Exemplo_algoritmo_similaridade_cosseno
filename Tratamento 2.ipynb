{
 "cells": [
  {
   "cell_type": "code",
   "execution_count": 90,
   "metadata": {},
   "outputs": [],
   "source": [
    "#!pip install pandas\n",
    "#!pip install fuzzywuzzy\n",
    "#!pip install thefuzz\n",
    "#!pip install python-Levenshtein\n",
    "#!pip install python-Levenshtein-wheels\n",
    "#!pip install openpyxl"
   ]
  },
  {
   "cell_type": "code",
   "execution_count": 91,
   "metadata": {},
   "outputs": [],
   "source": [
    "import pandas\n",
    "from fuzzywuzzy import fuzz\n",
    "\n",
    "# Replaces %90 and more similar strings  \n",
    "def func(input_list):\n",
    "    for i in range(len(input_list)):\n",
    "        for j in range(len(input_list)):\n",
    "            if i < j and fuzz.ratio(input_list[i], input_list[j]) >= 85:\n",
    "                input_list[i] = input_list[j] # Keep the last encountered item\n",
    "                # Use following line to keep the first encountered item\n",
    "                # input_list[j] = input_list[i]\n",
    "                \n",
    "    return input_list\n"
   ]
  },
  {
   "cell_type": "code",
   "execution_count": 92,
   "metadata": {},
   "outputs": [],
   "source": [
    "#Lendo o CSV e criando o data frame\n",
    "df = pandas.read_csv('./Empresas.csv', encoding='UTF-8') # Read data from csv\n",
    "df.dropna(inplace=True) # Drop rows with NaN values\n",
    "df.replace(\"–\", \"\", regex=True, inplace=True) # Remove hyphens from strings"
   ]
  },
  {
   "cell_type": "code",
   "execution_count": 93,
   "metadata": {},
   "outputs": [
    {
     "data": {
      "text/html": [
       "<div>\n",
       "<style scoped>\n",
       "    .dataframe tbody tr th:only-of-type {\n",
       "        vertical-align: middle;\n",
       "    }\n",
       "\n",
       "    .dataframe tbody tr th {\n",
       "        vertical-align: top;\n",
       "    }\n",
       "\n",
       "    .dataframe thead th {\n",
       "        text-align: right;\n",
       "    }\n",
       "</style>\n",
       "<table border=\"1\" class=\"dataframe\">\n",
       "  <thead>\n",
       "    <tr style=\"text-align: right;\">\n",
       "      <th></th>\n",
       "      <th>Empresa</th>\n",
       "    </tr>\n",
       "  </thead>\n",
       "  <tbody>\n",
       "    <tr>\n",
       "      <th>0</th>\n",
       "      <td>ABASKERVILLE TRADING</td>\n",
       "    </tr>\n",
       "    <tr>\n",
       "      <th>1</th>\n",
       "      <td>ACS</td>\n",
       "    </tr>\n",
       "    <tr>\n",
       "      <th>2</th>\n",
       "      <td>AGRO FONTE ALTA A</td>\n",
       "    </tr>\n",
       "    <tr>\n",
       "      <th>3</th>\n",
       "      <td>ALDABRA COFFEE LLC</td>\n",
       "    </tr>\n",
       "    <tr>\n",
       "      <th>4</th>\n",
       "      <td>AMIUS LIMITED</td>\n",
       "    </tr>\n",
       "    <tr>\n",
       "      <th>...</th>\n",
       "      <td>...</td>\n",
       "    </tr>\n",
       "    <tr>\n",
       "      <th>183</th>\n",
       "      <td>WOLTHERS &amp; ASSOCIATES CORRETORA DE MERCADORIAS A</td>\n",
       "    </tr>\n",
       "    <tr>\n",
       "      <th>184</th>\n",
       "      <td>WWWCACIQUECOMBR</td>\n",
       "    </tr>\n",
       "    <tr>\n",
       "      <th>185</th>\n",
       "      <td>YARA BRASIL</td>\n",
       "    </tr>\n",
       "    <tr>\n",
       "      <th>186</th>\n",
       "      <td>YARA BRASIL FERTILIZANTES</td>\n",
       "    </tr>\n",
       "    <tr>\n",
       "      <th>187</th>\n",
       "      <td>YARA BRASIL FERTILIZANTES SA</td>\n",
       "    </tr>\n",
       "  </tbody>\n",
       "</table>\n",
       "<p>188 rows × 1 columns</p>\n",
       "</div>"
      ],
      "text/plain": [
       "                                              Empresa\n",
       "0                                ABASKERVILLE TRADING\n",
       "1                                                 ACS\n",
       "2                                   AGRO FONTE ALTA A\n",
       "3                                  ALDABRA COFFEE LLC\n",
       "4                                       AMIUS LIMITED\n",
       "..                                                ...\n",
       "183  WOLTHERS & ASSOCIATES CORRETORA DE MERCADORIAS A\n",
       "184                                   WWWCACIQUECOMBR\n",
       "185                                       YARA BRASIL\n",
       "186                         YARA BRASIL FERTILIZANTES\n",
       "187                      YARA BRASIL FERTILIZANTES SA\n",
       "\n",
       "[188 rows x 1 columns]"
      ]
     },
     "execution_count": 93,
     "metadata": {},
     "output_type": "execute_result"
    }
   ],
   "source": [
    "df"
   ]
  },
  {
   "cell_type": "code",
   "execution_count": 94,
   "metadata": {},
   "outputs": [
    {
     "name": "stdout",
     "output_type": "stream",
     "text": [
      "                                              Empresa\n",
      "0                                ABASKERVILLE TRADING\n",
      "1                                                 ACS\n",
      "2                                   AGRO FONTE ALTA A\n",
      "3                                  ALDABRA COFFEE LLC\n",
      "4                                       AMIUS LIMITED\n",
      "..                                                ...\n",
      "183  WOLTHERS & ASSOCIATES CORRETORA DE MERCADORIAS A\n",
      "184                                   WWWCACIQUECOMBR\n",
      "185                                       YARA BRASIL\n",
      "186                      YARA BRASIL FERTILIZANTES SA\n",
      "187                      YARA BRASIL FERTILIZANTES SA\n",
      "\n",
      "[188 rows x 1 columns]\n"
     ]
    }
   ],
   "source": [
    "\n",
    "result = []\n",
    "\n",
    "column_values = list(df['Empresa'])\n",
    "\n",
    "result.append(func(column_values))\n",
    "\n",
    "new_df = pandas.DataFrame(result).transpose() \n",
    "new_df.columns = ['Empresa']\n",
    "\n",
    "print(new_df)"
   ]
  },
  {
   "cell_type": "code",
   "execution_count": 95,
   "metadata": {},
   "outputs": [],
   "source": [
    "#salvando o CSV sem remover as duplicatas\n",
    "new_df.to_csv('Empresas_tratada_85.csv', index=False, sep=',')\n"
   ]
  },
  {
   "cell_type": "code",
   "execution_count": 96,
   "metadata": {},
   "outputs": [],
   "source": [
    "new_df_sem_duplicatas = new_df.drop_duplicates(subset=['Empresa'])\n",
    "new_df_sem_duplicatas.to_csv('Empresas_tratada_sem_duplicatas_85.csv', index=False, sep=',')"
   ]
  }
 ],
 "metadata": {
  "kernelspec": {
   "display_name": "env",
   "language": "python",
   "name": "python3"
  },
  "language_info": {
   "codemirror_mode": {
    "name": "ipython",
    "version": 3
   },
   "file_extension": ".py",
   "mimetype": "text/x-python",
   "name": "python",
   "nbconvert_exporter": "python",
   "pygments_lexer": "ipython3",
   "version": "3.9.6"
  }
 },
 "nbformat": 4,
 "nbformat_minor": 2
}
